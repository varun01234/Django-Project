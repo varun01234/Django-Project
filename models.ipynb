{
 "cells": [
  {
   "cell_type": "code",
   "execution_count": null,
   "id": "6fceff57",
   "metadata": {},
   "outputs": [],
   "source": [
    "from django.db import models\n",
    "\n",
    "class User(models.Model):\n",
    "    name = models.CharField(max_length=100)\n",
    "    email = models.EmailField(unique=True)\n",
    "    password = models.CharField(max_length=100)\n",
    "    # Add other relevant fields\n",
    "\n",
    "class Post(models.Model):\n",
    "    title = models.CharField(max_length=100)\n",
    "    description = models.TextField()\n",
    "    content = models.TextField()\n",
    "    creation_date = models.DateTimeField(auto_now_add=True)\n",
    "    owner = models.ForeignKey(User, on_delete=models.CASCADE)\n",
    "    is_public = models.BooleanField(default=True)\n",
    "    # Add other relevant fields\n",
    "\n",
    "class Like(models.Model):\n",
    "    post = models.ForeignKey(Post, on_delete=models.CASCADE)\n",
    "    user = models.ForeignKey(User, on_delete=models.CASCADE)\n",
    "    # Add other relevant fields\n"
   ]
  }
 ],
 "metadata": {
  "kernelspec": {
   "display_name": "Python 3 (ipykernel)",
   "language": "python",
   "name": "python3"
  },
  "language_info": {
   "codemirror_mode": {
    "name": "ipython",
    "version": 3
   },
   "file_extension": ".py",
   "mimetype": "text/x-python",
   "name": "python",
   "nbconvert_exporter": "python",
   "pygments_lexer": "ipython3",
   "version": "3.9.12"
  }
 },
 "nbformat": 4,
 "nbformat_minor": 5
}
