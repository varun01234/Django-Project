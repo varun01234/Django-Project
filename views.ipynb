{
 "cells": [
  {
   "cell_type": "code",
   "execution_count": null,
   "id": "264b20e7",
   "metadata": {},
   "outputs": [],
   "source": [
    "from rest_framework import viewsets, permissions\n",
    "from .models import User, Post, Like\n",
    "from .serializers import UserSerializer, PostSerializer, LikeSerializer\n",
    "\n",
    "class UserViewSet(viewsets.ModelViewSet):\n",
    "    queryset = User.objects.all()\n",
    "    serializer_class = UserSerializer\n",
    "\n",
    "class PostViewSet(viewsets.ModelViewSet):\n",
    "    queryset = Post.objects.all()\n",
    "    serializer_class = PostSerializer\n",
    "    permission_classes = [permissions.IsAuthenticatedOrReadOnly]\n",
    "\n",
    "    def perform_create(self, serializer):\n",
    "        serializer.save(owner=self.request.user)\n",
    "\n",
    "class LikeViewSet(viewsets.ModelViewSet):\n",
    "    queryset = Like.objects.all()\n",
    "    serializer_class = LikeSerializer\n",
    "    permission_classes = [permissions.IsAuthenticatedOrReadOnly]\n"
   ]
  }
 ],
 "metadata": {
  "kernelspec": {
   "display_name": "Python 3 (ipykernel)",
   "language": "python",
   "name": "python3"
  },
  "language_info": {
   "codemirror_mode": {
    "name": "ipython",
    "version": 3
   },
   "file_extension": ".py",
   "mimetype": "text/x-python",
   "name": "python",
   "nbconvert_exporter": "python",
   "pygments_lexer": "ipython3",
   "version": "3.9.12"
  }
 },
 "nbformat": 4,
 "nbformat_minor": 5
}
