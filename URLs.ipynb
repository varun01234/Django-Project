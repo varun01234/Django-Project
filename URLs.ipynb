{
 "cells": [
  {
   "cell_type": "code",
   "execution_count": null,
   "id": "69f86107",
   "metadata": {},
   "outputs": [],
   "source": [
    "from django.urls import include, path\n",
    "from rest_framework import routers\n",
    "from .views import UserViewSet, PostViewSet, LikeViewSet\n",
    "\n",
    "router = routers.DefaultRouter()\n",
    "router.register('users', UserViewSet)\n",
    "router.register('posts', PostViewSet)\n",
    "router.register('likes', LikeViewSet)\n",
    "\n",
    "urlpatterns = [\n",
    "    path('', include(router.urls)),\n",
    "]\n"
   ]
  }
 ],
 "metadata": {
  "kernelspec": {
   "display_name": "Python 3 (ipykernel)",
   "language": "python",
   "name": "python3"
  },
  "language_info": {
   "codemirror_mode": {
    "name": "ipython",
    "version": 3
   },
   "file_extension": ".py",
   "mimetype": "text/x-python",
   "name": "python",
   "nbconvert_exporter": "python",
   "pygments_lexer": "ipython3",
   "version": "3.9.12"
  }
 },
 "nbformat": 4,
 "nbformat_minor": 5
}
