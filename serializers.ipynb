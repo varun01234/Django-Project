{
 "cells": [
  {
   "cell_type": "code",
   "execution_count": null,
   "id": "0133181b",
   "metadata": {},
   "outputs": [],
   "source": [
    "from rest_framework import serializers\n",
    "from .models import User, Post, Like\n",
    "\n",
    "class UserSerializer(serializers.ModelSerializer):\n",
    "    class Meta:\n",
    "        model = User\n",
    "        fields = '__all__'\n",
    "\n",
    "class PostSerializer(serializers.ModelSerializer):\n",
    "    likes_count = serializers.SerializerMethodField()\n",
    "\n",
    "    def get_likes_count(self, obj):\n",
    "        return obj.like_set.count()\n",
    "\n",
    "    class Meta:\n",
    "        model = Post\n",
    "        fields = '__all__'\n",
    "\n",
    "class LikeSerializer(serializers.ModelSerializer):\n",
    "    class Meta:\n",
    "        model = Like\n",
    "        fields = '__all__'\n"
   ]
  }
 ],
 "metadata": {
  "kernelspec": {
   "display_name": "Python 3 (ipykernel)",
   "language": "python",
   "name": "python3"
  },
  "language_info": {
   "codemirror_mode": {
    "name": "ipython",
    "version": 3
   },
   "file_extension": ".py",
   "mimetype": "text/x-python",
   "name": "python",
   "nbconvert_exporter": "python",
   "pygments_lexer": "ipython3",
   "version": "3.9.12"
  }
 },
 "nbformat": 4,
 "nbformat_minor": 5
}
