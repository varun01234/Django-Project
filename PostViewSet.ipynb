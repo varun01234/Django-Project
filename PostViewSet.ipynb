{
 "cells": [
  {
   "cell_type": "code",
   "execution_count": null,
   "id": "1fc31a9e",
   "metadata": {},
   "outputs": [],
   "source": [
    "#To enforce the access restrictions and retrieve post/blog details with likes in a single query, update the PostViewSet as follows:\n",
    "from django.db.models import Count\n",
    "\n",
    "class PostViewSet(viewsets.ModelViewSet):\n",
    "    queryset = Post.objects.annotate(likes_count=Count('like'))\n",
    "    serializer_class = PostSerializer\n",
    "    permission_classes = [permissions.IsAuthenticatedOrReadOnly]\n",
    "\n",
    "    def perform_create(self, serializer):\n",
    "        serializer.save(owner=self.request.user)\n",
    "\n",
    "    def retrieve(self, request, *args, **kwargs):\n",
    "        instance = self.get_object()\n",
    "        if instance.is_public or instance.owner == request.user:\n",
    "            serializer = self.get_serializer(instance)\n",
    "            return Response(serializer.data)\n",
    "        else:\n",
    "            return Response(status=status.HTTP_403_FORBIDDEN)\n"
   ]
  }
 ],
 "metadata": {
  "kernelspec": {
   "display_name": "Python 3 (ipykernel)",
   "language": "python",
   "name": "python3"
  },
  "language_info": {
   "codemirror_mode": {
    "name": "ipython",
    "version": 3
   },
   "file_extension": ".py",
   "mimetype": "text/x-python",
   "name": "python",
   "nbconvert_exporter": "python",
   "pygments_lexer": "ipython3",
   "version": "3.9.12"
  }
 },
 "nbformat": 4,
 "nbformat_minor": 5
}
